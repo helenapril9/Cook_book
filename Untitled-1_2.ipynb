{
 "cells": [
  {
   "cell_type": "code",
   "execution_count": 1,
   "metadata": {},
   "outputs": [
    {
     "name": "stdout",
     "output_type": "stream",
     "text": [
      "{'Омлет': [{'ingredient_name': 'Яйцо ', 'quantity': ' 2 ', 'measure': ' шт'}, {'ingredient_name': 'Молоко ', 'quantity': ' 100 ', 'measure': ' мл'}, {'ingredient_name': 'Помидор ', 'quantity': ' 2 ', 'measure': ' шт'}], 'Утка по-пекински': [{'ingredient_name': 'Утка ', 'quantity': ' 1 ', 'measure': ' шт'}, {'ingredient_name': 'Вода ', 'quantity': ' 2 ', 'measure': ' л'}, {'ingredient_name': 'Мед ', 'quantity': ' 3 ', 'measure': ' ст.л'}, {'ingredient_name': 'Соевый соус ', 'quantity': ' 60 ', 'measure': ' мл'}], 'Запеченный картофель': [{'ingredient_name': 'Картофель ', 'quantity': ' 1 ', 'measure': ' кг'}, {'ingredient_name': 'Чеснок ', 'quantity': ' 3 ', 'measure': ' зубч'}, {'ingredient_name': 'Сыр гауда ', 'quantity': ' 100 ', 'measure': ' г'}], 'Фахитос': [{'ingredient_name': 'Говядина ', 'quantity': ' 500 ', 'measure': ' г'}, {'ingredient_name': 'Перец сладкий ', 'quantity': ' 1 ', 'measure': ' шт'}, {'ingredient_name': 'Лаваш ', 'quantity': ' 2 ', 'measure': ' шт'}, {'ingredient_name': 'Винный уксус ', 'quantity': ' 1 ', 'measure': ' ст.л'}, {'ingredient_name': 'Помидор ', 'quantity': ' 2 ', 'measure': ' шт'}]}\n"
     ]
    }
   ],
   "source": [
    "cook_book = {}\n",
    "with open('recipes1.txt', encoding=\"utf-8\") as file:\n",
    "    for line in file:\n",
    "        cook_book[line.strip()] = []\n",
    "        s = int(file.readline().strip())\n",
    "        list = []\n",
    "        for i in range(0,s+1):\n",
    "            iqm = file.readline().strip()\n",
    "            if iqm != '':\n",
    "                split1 = iqm.split('|')                                        \n",
    "                dict = {'ingredient_name': split1[0], 'quantity': split1[1], 'measure': split1[2]}                                                   \n",
    "                list.append(dict)               \n",
    "        cook_book[line.strip()] = list               \n",
    "print(cook_book)"
   ]
  },
  {
   "cell_type": "code",
   "execution_count": 3,
   "metadata": {},
   "outputs": [
    {
     "data": {
      "text/plain": [
       "{'Говядина ': {'measure': ' г', 'quantity': 1000},\n",
       " 'Перец сладкий ': {'measure': ' шт', 'quantity': 2},\n",
       " 'Лаваш ': {'measure': ' шт', 'quantity': 4},\n",
       " 'Винный уксус ': {'measure': ' ст.л', 'quantity': 2},\n",
       " 'Помидор ': {'measure': ' шт', 'quantity': 8},\n",
       " 'Яйцо ': {'measure': ' шт', 'quantity': 4},\n",
       " 'Молоко ': {'measure': ' мл', 'quantity': 200}}"
      ]
     },
     "execution_count": 3,
     "metadata": {},
     "output_type": "execute_result"
    }
   ],
   "source": [
    "dishes = ['Фахитос','Плов из баранины', 'Омлет' ]\n",
    "person_count = 2\n",
    "\n",
    "def get_shop_list_by_dishes(dishes, person_count):\n",
    "    h_to_buy = {}\n",
    "    for dish in dishes:\n",
    "        if dish in cook_book:\n",
    "            dish_ingridients = cook_book[dish]  \n",
    "            l =  len(dish_ingridients)          \n",
    "            for i in range(l):\n",
    "                component = (dish_ingridients[i]['ingredient_name'])\n",
    "                qua = (dish_ingridients[i]['quantity'])\n",
    "                meas = (dish_ingridients[i]['measure'])                \n",
    "                if component in h_to_buy:\n",
    "                    pre_component = h_to_buy[component]['quantity']\n",
    "                    h_to_buy[component] = {'measure': meas, 'quantity':(int(qua)*person_count + int(pre_component))}\n",
    "                else:    \n",
    "                    h_to_buy[component] = {'measure': meas, 'quantity': int(qua)*person_count}               \n",
    "    return h_to_buy                               \n",
    "get_shop_list_by_dishes(dishes, person_count)\n"
   ]
  }
 ],
 "metadata": {
  "interpreter": {
   "hash": "073e97d9edce391f5d16825652497352d8c5f972d2913fd0dc21756dd309c531"
  },
  "kernelspec": {
   "display_name": "Python 3.8.8 ('base')",
   "language": "python",
   "name": "python3"
  },
  "language_info": {
   "codemirror_mode": {
    "name": "ipython",
    "version": 3
   },
   "file_extension": ".py",
   "mimetype": "text/x-python",
   "name": "python",
   "nbconvert_exporter": "python",
   "pygments_lexer": "ipython3",
   "version": "3.8.8"
  },
  "orig_nbformat": 4
 },
 "nbformat": 4,
 "nbformat_minor": 2
}
